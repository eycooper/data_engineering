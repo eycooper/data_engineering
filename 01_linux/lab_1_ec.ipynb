{
 "cells": [
  {
   "cell_type": "markdown",
   "id": "8bb7b45c",
   "metadata": {},
   "source": [
    "# Linux Lab 1\n",
    "### Emma Cooper (eyc4xd)"
   ]
  },
  {
   "cell_type": "markdown",
   "id": "57a8f864",
   "metadata": {},
   "source": [
    "## Part 1.1 Expanding the Sample Files\n",
    "\n",
    "Used 'tar -xf filename' on all 3 tar files in the data folder to expand"
   ]
  },
  {
   "cell_type": "code",
   "execution_count": 16,
   "id": "168e7ba9",
   "metadata": {},
   "outputs": [
    {
     "name": "stdout",
     "output_type": "stream",
     "text": [
      "20021010_easy_ham.tar.bz2  20021010_spam.tar.bz2  hard_ham\r\n",
      "20021010_hard_ham.tar.bz2  easy_ham\t\t  spam\r\n"
     ]
    }
   ],
   "source": [
    "!ls ./data"
   ]
  },
  {
   "cell_type": "markdown",
   "id": "5610fdb0",
   "metadata": {},
   "source": [
    "## Part 1.2 Creating a File to Load the Model and Read stdim\n",
    "\n",
    "See classifier.py for code"
   ]
  },
  {
   "cell_type": "code",
   "execution_count": 17,
   "id": "921d68b9",
   "metadata": {},
   "outputs": [
    {
     "name": "stdout",
     "output_type": "stream",
     "text": [
      "8.421342173508955e-06\t./data/easy_ham/0001.ea7e79d3153e7469e7a9c3e0af6a357e\r\n",
      "./data/easy_ham/0001.ea7e79d3153e7469e7a9c3e0af6a357e"
     ]
    }
   ],
   "source": [
    "!echo ./data/easy_ham/0001.ea7e79d3153e7469e7a9c3e0af6a357e | python3 classifier.py"
   ]
  },
  {
   "cell_type": "markdown",
   "id": "760e8a45",
   "metadata": {},
   "source": [
    "## Part 1.3 Building the Command Line Mini Pipeline"
   ]
  },
  {
   "cell_type": "code",
   "execution_count": 18,
   "id": "024d39c3",
   "metadata": {},
   "outputs": [
    {
     "name": "stdout",
     "output_type": "stream",
     "text": [
      "9.981655083634909e-05\t./data/easy_ham/0520.db2ae930623e1db4c9cf60676f96c4e5\r\n",
      "9.981655083634909e-05\t./data/easy_ham/0518.def6dfc3c2204dda12270b0ca97f0fc5\r\n",
      "9.981655083634909e-05\t./data/easy_ham/0512.17bff8553d7e8f6c668166afe149795b\r\n",
      "9.981655083634909e-05\t./data/easy_ham/0376.c0225fd19682f7ac58d090b6528af380\r\n",
      "9.981655083634909e-05\t./data/easy_ham/0375.54d0a570b81851127b73cebb8741a2df\r\n",
      "9.970924543131571e-05\t./data/hard_ham/0063.d84fa51cf5329f5e5b2f0c83b7ec94d0\r\n",
      "9.779274072563383e-09\t./data/easy_ham/0606.246043a69d2c710dde0e67eedb1fd853\r\n",
      "9.666849648673285e-06\t./data/easy_ham/0734.7dc0b0b5f6fb1977f0a146a44c4750aa\r\n",
      "9.666849648673285e-06\t./data/easy_ham/0731.59e8a707586a8b3cfe89bff4024dead7\r\n",
      "9.666849648673285e-06\t./data/easy_ham/0711.27203d4f43e71f7e1ced0cdd7f8685c8\r\n",
      "sort: write failed: 'standard output': Broken pipe\r\n",
      "sort: write error\r\n"
     ]
    }
   ],
   "source": [
    "!ls ./data/*/0* | python3 classifier.py 2> /dev/null | sort -rn | head -n 10"
   ]
  },
  {
   "cell_type": "code",
   "execution_count": 19,
   "id": "12eaa1ef",
   "metadata": {
    "scrolled": true
   },
   "outputs": [
    {
     "name": "stdout",
     "output_type": "stream",
     "text": [
      "9.981655083649306e-05\t./data/easy_ham/0520.db2ae930623e1db4c9cf60676f96c4e5\r\n",
      "9.981655083649306e-05\t./data/easy_ham/0518.def6dfc3c2204dda12270b0ca97f0fc5\r\n",
      "9.981655083649306e-05\t./data/easy_ham/0512.17bff8553d7e8f6c668166afe149795b\r\n",
      "9.981655083649306e-05\t./data/easy_ham/0376.c0225fd19682f7ac58d090b6528af380\r\n",
      "9.981655083649306e-05\t./data/easy_ham/0375.54d0a570b81851127b73cebb8741a2df\r\n",
      "9.97092454316685e-05\t./data/hard_ham/0063.d84fa51cf5329f5e5b2f0c83b7ec94d0\r\n",
      "9.916451256603253e-06\t./data/easy_ham/1236.4f668a267ed4bfb3c9038c638ee7258b\r\n",
      "9.779274072540311e-09\t./data/easy_ham/0606.246043a69d2c710dde0e67eedb1fd853\r\n",
      "9.756300715840317e-05\t./data/easy_ham/1831.0bbb7ccf73587c7f02655596e7fa6477\r\n",
      "9.756300715840317e-05\t./data/easy_ham/1826.26284dbbc6f595fdc9c388008e5aa72c\r\n",
      "sort: write failed: 'standard output': Broken pipe\r\n",
      "sort: write error\r\n"
     ]
    }
   ],
   "source": [
    "!ls ./data/*/* | python3 classifier.py 2> /dev/null | sort -rn | head -n 10"
   ]
  }
 ],
 "metadata": {
  "kernelspec": {
   "display_name": "Python 3 (ipykernel)",
   "language": "python",
   "name": "python3"
  },
  "language_info": {
   "codemirror_mode": {
    "name": "ipython",
    "version": 3
   },
   "file_extension": ".py",
   "mimetype": "text/x-python",
   "name": "python",
   "nbconvert_exporter": "python",
   "pygments_lexer": "ipython3",
   "version": "3.10.6"
  }
 },
 "nbformat": 4,
 "nbformat_minor": 5
}
